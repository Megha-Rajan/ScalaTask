{
 "cells": [
  {
   "cell_type": "code",
   "execution_count": 43,
   "id": "d71e25b2",
   "metadata": {},
   "outputs": [
    {
     "data": {
      "text/plain": [
       "lastException: Throwable = null\n"
      ]
     },
     "metadata": {},
     "output_type": "display_data",
     "source": "user"
    }
   ],
   "source": [
    "import org.apache.spark.sql.SparkSession\n",
    "import org.apache.spark.SparkConf\n",
    "import org.apache.log4j.Level\n",
    "import org.apache.log4j.Logger\n",
    "import org.apache.spark.sql.SaveMode\n",
    "import org.apache.spark.sql.Dataset\n",
    "import org.apache.spark.sql.Row\n",
    "import org.apache.spark.sql.functions._"
   ]
  },
  {
   "cell_type": "code",
   "execution_count": 44,
   "id": "f8e43d6e",
   "metadata": {},
   "outputs": [
    {
     "data": {
      "text/plain": [
       "spark = org.apache.spark.sql.SparkSession@4855abaf\n"
      ]
     },
     "metadata": {},
     "output_type": "display_data",
     "source": "user"
    },
    {
     "data": {
      "text/plain": [
       "org.apache.spark.sql.SparkSession@4855abaf"
      ]
     },
     "execution_count": 44,
     "metadata": {},
     "output_type": "execute_result"
    }
   ],
   "source": [
    "val spark=SparkSession.builder.appName(\"Capstone Project\").enableHiveSupport().getOrCreate()"
   ]
  },
  {
   "cell_type": "code",
   "execution_count": 45,
   "id": "a4009372",
   "metadata": {},
   "outputs": [
    {
     "data": {
      "text/plain": [
       "org.apache.spark.sql.SparkSession@4855abaf"
      ]
     },
     "execution_count": 45,
     "metadata": {},
     "output_type": "execute_result"
    }
   ],
   "source": [
    "spark"
   ]
  },
  {
   "cell_type": "code",
   "execution_count": 46,
   "id": "a9173f79",
   "metadata": {},
   "outputs": [
    {
     "data": {
      "text/plain": [
       "[]"
      ]
     },
     "execution_count": 46,
     "metadata": {},
     "output_type": "execute_result"
    }
   ],
   "source": [
    "spark.sql(\"use capstoneproject\")"
   ]
  },
  {
   "cell_type": "code",
   "execution_count": 47,
   "id": "a3412ab6",
   "metadata": {},
   "outputs": [
    {
     "name": "stdout",
     "output_type": "stream",
     "text": [
      "+---------------+--------------------+-----------+\n",
      "|       database|           tableName|isTemporary|\n",
      "+---------------+--------------------+-----------+\n",
      "|capstoneproject|studentcoursecomp...|      false|\n",
      "|capstoneproject|studentcoursedetails|      false|\n",
      "|capstoneproject|studentcoursedeta...|      false|\n",
      "+---------------+--------------------+-----------+\n",
      "\n"
     ]
    }
   ],
   "source": [
    "spark.sql(\"show tables\").show()"
   ]
  },
  {
   "cell_type": "markdown",
   "id": "6978ddb5",
   "metadata": {},
   "source": [
    "## Using DataFrames"
   ]
  },
  {
   "cell_type": "code",
   "execution_count": 48,
   "id": "84ff1168",
   "metadata": {},
   "outputs": [
    {
     "data": {
      "text/plain": [
       "df1_coursecompletion = [studentsid: string, courseid: string ... 4 more fields]\n"
      ]
     },
     "metadata": {},
     "output_type": "display_data",
     "source": "user"
    },
    {
     "data": {
      "text/plain": [
       "[studentsid: string, courseid: string ... 4 more fields]"
      ]
     },
     "execution_count": 48,
     "metadata": {},
     "output_type": "execute_result"
    }
   ],
   "source": [
    "val df1_coursecompletion = spark.read.table(\"capstoneproject.studentcoursecompletionstatus\")"
   ]
  },
  {
   "cell_type": "code",
   "execution_count": 49,
   "id": "0fb78b8c",
   "metadata": {},
   "outputs": [
    {
     "name": "stdout",
     "output_type": "stream",
     "text": [
      "root\n",
      " |-- studentsid: string (nullable = true)\n",
      " |-- courseid: string (nullable = true)\n",
      " |-- examdate: string (nullable = true)\n",
      " |-- attendedstatus: string (nullable = true)\n",
      " |-- marks: integer (nullable = true)\n",
      " |-- result: string (nullable = true)\n",
      "\n"
     ]
    }
   ],
   "source": [
    "df1_coursecompletion.printSchema()"
   ]
  },
  {
   "cell_type": "code",
   "execution_count": 50,
   "id": "9445f9fb",
   "metadata": {},
   "outputs": [
    {
     "name": "stdout",
     "output_type": "stream",
     "text": [
      "+----------+--------+---------+--------------+-----+-------------+\n",
      "|studentsid|courseid| examdate|attendedstatus|marks|       result|\n",
      "+----------+--------+---------+--------------+-----+-------------+\n",
      "|     S0001|   C0001|17 Feb 19|      Attended|   70|    Qualified|\n",
      "|     S0298|   C0008|24 Feb 19|      Attended|   70|    Qualified|\n",
      "|     S0297|   C0007|23 Feb 19|        Absent|    0|Not Qualified|\n",
      "|     S0296|   C0030|20 Feb 19|      Attended|   70|    Qualified|\n",
      "|     S0291|   C0013| 1 Mar 19|      Attended|   85|    Qualified|\n",
      "|     S0290|   C0017| 5 Mar 19|        Absent|    0|Not Qualified|\n",
      "|     S0289|   C0016| 4 Mar 19|        Absent|    0|Not Qualified|\n",
      "|     S0288|   C0015| 3 Mar 19|        Absent|    0|Not Qualified|\n",
      "|     S0287|   C0014| 2 Mar 19|        Absent|    0|Not Qualified|\n",
      "|     S0286|   C0013| 1 Mar 19|      Attended|   85|    Qualified|\n",
      "|     S0285|   C0012|28 Feb 19|      Attended|   70|    Qualified|\n",
      "|     S0284|   C0011|27 Feb 19|        Absent|    0|Not Qualified|\n",
      "|     S0283|   C0010|26 Feb 19|        Absent|    0|Not Qualified|\n",
      "|     S0281|   C0008|24 Feb 19|      Attended|   70|    Qualified|\n",
      "|     S0280|   C0007|23 Feb 19|        Absent|    0|Not Qualified|\n",
      "|     S0279|   C0006|22 Feb 19|        Absent|    0|Not Qualified|\n",
      "|     S0278|   C0005|21 Feb 19|        Absent|    0|Not Qualified|\n",
      "|     S0276|   C0003|19 Feb 19|      Attended|   70|    Qualified|\n",
      "|     S0275|   C0017| 5 Mar 19|        Absent|    0|Not Qualified|\n",
      "|     S0274|   C0016| 4 Mar 19|        Absent|    0|Not Qualified|\n",
      "+----------+--------+---------+--------------+-----+-------------+\n",
      "only showing top 20 rows\n",
      "\n"
     ]
    }
   ],
   "source": [
    "df1_coursecompletion.show()"
   ]
  },
  {
   "cell_type": "code",
   "execution_count": 51,
   "id": "e565d707",
   "metadata": {},
   "outputs": [
    {
     "data": {
      "text/plain": [
       "df2_coursedetails = [courseid: string, title: string ... 3 more fields]\n"
      ]
     },
     "metadata": {},
     "output_type": "display_data",
     "source": "user"
    },
    {
     "data": {
      "text/plain": [
       "[courseid: string, title: string ... 3 more fields]"
      ]
     },
     "execution_count": 51,
     "metadata": {},
     "output_type": "execute_result"
    }
   ],
   "source": [
    "val df2_coursedetails = spark.read.table(\"capstoneproject.studentcoursedetails\")"
   ]
  },
  {
   "cell_type": "code",
   "execution_count": 52,
   "id": "3b2cd10f",
   "metadata": {},
   "outputs": [
    {
     "name": "stdout",
     "output_type": "stream",
     "text": [
      "+--------+--------------------+--------------------+----------+--------------------+\n",
      "|courseid|               title|          competency|complexity|          coursetype|\n",
      "+--------+--------------------+--------------------+----------+--------------------+\n",
      "|   C0001|Certificate in Cl...|           Technical|     Basic|               Cloud|\n",
      "|   C0002|Certificate in Vi...|           Technical|     Basic|               Cloud|\n",
      "|   C0003|\"Diploma in Infor...| Networking and C...|  Security|               Cloud|\n",
      "|   C0004|BE (Hons) in CSE ...|              Domain|  Advanced|               Cloud|\n",
      "|   C0005|BTech in Computer...|              Domain|  Advanced|               Cloud|\n",
      "|   C0006|BTech in Computer...|              Domain|  Advanced|               Cloud|\n",
      "|   C0007|BCA with Microsof...|            Security|  Advanced|               Cloud|\n",
      "|   C0008|BTech in Informat...|           Technical|  Advanced|               Cloud|\n",
      "|   C0009|MCA with speciali...|           Technical|  Advanced|               Cloud|\n",
      "|   C0010|ME in Cloud Compu...|           Technical|     Basic|               Cloud|\n",
      "|   C0011|MTech Computer Sc...|           Technical|     Basic|               Cloud|\n",
      "|   C0012|Bachelor’s in Com...|              Domain|     Basic|Hardware and Netw...|\n",
      "|   C0013|B.Sc in Hardware ...|              Domain|  Advanced|Hardware and Netw...|\n",
      "|   C0014|BTech in IT and N...|              Domain|     Basic|Hardware and Netw...|\n",
      "|   C0015|BS in Hardware an...|              Domain|     Basic|Hardware and Netw...|\n",
      "|   C0016|BSc in Networking...|              Domain|     Basic|Hardware and Netw...|\n",
      "|   C0017|M.Tech in Network...|              Domain|  Advanced|Hardware and Netw...|\n",
      "|   C0018|M.Sc in Hardware ...|              Domain|  Advanced|Hardware and Netw...|\n",
      "|   C0019|MSc in Wireless N...|              Domain|  Advanced|Hardware and Netw...|\n",
      "|   C0020|Diploma in Comput...|              Domain|  Advanced|Hardware and Netw...|\n",
      "+--------+--------------------+--------------------+----------+--------------------+\n",
      "only showing top 20 rows\n",
      "\n"
     ]
    }
   ],
   "source": [
    "df2_coursedetails.show()"
   ]
  },
  {
   "cell_type": "markdown",
   "id": "6e5d7f28",
   "metadata": {},
   "source": [
    "### Total number of students Absent"
   ]
  },
  {
   "cell_type": "code",
   "execution_count": 53,
   "id": "ee0fb9ae",
   "metadata": {},
   "outputs": [
    {
     "data": {
      "text/plain": [
       "149"
      ]
     },
     "execution_count": 53,
     "metadata": {},
     "output_type": "execute_result"
    }
   ],
   "source": [
    "df1_coursecompletion.where(df1_coursecompletion(\"attendedstatus\") === \"Absent\").count()"
   ]
  },
  {
   "cell_type": "code",
   "execution_count": 54,
   "id": "6eec817c",
   "metadata": {},
   "outputs": [
    {
     "name": "stdout",
     "output_type": "stream",
     "text": [
      "+--------+-----+\n",
      "|courseid|count|\n",
      "+--------+-----+\n",
      "|   C0002|   10|\n",
      "|   C0005|   11|\n",
      "|   C0006|   11|\n",
      "|   C0007|   18|\n",
      "|   C0010|   19|\n",
      "|   C0011|   14|\n",
      "|   C0014|   15|\n",
      "|   C0015|   15|\n",
      "|   C0016|   16|\n",
      "|   C0017|   14|\n",
      "|   C0022|    2|\n",
      "|   C0023|    2|\n",
      "|   C0024|    1|\n",
      "|   C0025|    1|\n",
      "+--------+-----+\n",
      "\n"
     ]
    }
   ],
   "source": [
    "df1_coursecompletion.where(df1_coursecompletion(\"attendedstatus\") === \"Absent\").groupBy(\"courseid\").count().orderBy(\"courseid\").show()"
   ]
  },
  {
   "cell_type": "markdown",
   "id": "d94f2758",
   "metadata": {},
   "source": [
    "### Maximum, minimum and average marks scored by students"
   ]
  },
  {
   "cell_type": "code",
   "execution_count": 55,
   "id": "a98abfef",
   "metadata": {},
   "outputs": [
    {
     "name": "stdout",
     "output_type": "stream",
     "text": [
      "+--------+--------+------------------+\n",
      "|max_mark|min_mark|          avg_mark|\n",
      "+--------+--------+------------------+\n",
      "|      92|       0|40.013333333333335|\n",
      "+--------+--------+------------------+\n",
      "\n"
     ]
    }
   ],
   "source": [
    "df1_coursecompletion.agg(max(\"marks\").as(\"max_mark\"),min(\"marks\").as(\"min_mark\"),avg(\"marks\").as(\"avg_mark\")).show()"
   ]
  },
  {
   "cell_type": "markdown",
   "id": "488b1c40",
   "metadata": {},
   "source": [
    "## Uisng Spark SQL"
   ]
  },
  {
   "cell_type": "code",
   "execution_count": 56,
   "id": "a5672c1b",
   "metadata": {},
   "outputs": [],
   "source": [
    "df1_coursecompletion.createOrReplaceTempView(\"df1_table\")"
   ]
  },
  {
   "cell_type": "code",
   "execution_count": 57,
   "id": "84ec6e4c",
   "metadata": {},
   "outputs": [
    {
     "name": "stdout",
     "output_type": "stream",
     "text": [
      "+------+------+------------------+\n",
      "|maxval|minval|            avgval|\n",
      "+------+------+------------------+\n",
      "|    92|     0|40.013333333333335|\n",
      "+------+------+------------------+\n",
      "\n"
     ]
    }
   ],
   "source": [
    "spark.sql(\"SELECT MAX(marks) as maxval, MIN(marks) as minval, AVG(marks) as avgval FROM df1_table\").show()"
   ]
  },
  {
   "cell_type": "code",
   "execution_count": 58,
   "id": "1f80b8c4",
   "metadata": {},
   "outputs": [
    {
     "name": "stdout",
     "output_type": "stream",
     "text": [
      "+--------+---+\n",
      "|courseid|cnt|\n",
      "+--------+---+\n",
      "|   C0002| 10|\n",
      "|   C0005| 11|\n",
      "|   C0006| 11|\n",
      "|   C0007| 18|\n",
      "|   C0010| 19|\n",
      "|   C0011| 14|\n",
      "|   C0014| 15|\n",
      "|   C0015| 15|\n",
      "|   C0016| 16|\n",
      "|   C0017| 14|\n",
      "|   C0022|  2|\n",
      "|   C0023|  2|\n",
      "|   C0024|  1|\n",
      "|   C0025|  1|\n",
      "+--------+---+\n",
      "\n"
     ]
    }
   ],
   "source": [
    "spark.sql(\"select courseid, count(*) as cnt from df1_table where attendedstatus = 'Absent' group by courseid order by courseid\").show()"
   ]
  },
  {
   "cell_type": "markdown",
   "id": "66adb94a",
   "metadata": {},
   "source": [
    "### Using RDD"
   ]
  },
  {
   "cell_type": "code",
   "execution_count": 61,
   "id": "0316c6f2",
   "metadata": {},
   "outputs": [
    {
     "data": {
      "text/plain": [
       "input = MapPartitionsRDD[75] at rdd at <console>:55\n"
      ]
     },
     "metadata": {},
     "output_type": "display_data",
     "source": "user"
    },
    {
     "data": {
      "text/plain": [
       "MapPartitionsRDD[75] at rdd at <console>:55"
      ]
     },
     "execution_count": 61,
     "metadata": {},
     "output_type": "execute_result"
    }
   ],
   "source": [
    "val input = df1_coursecompletion.rdd"
   ]
  },
  {
   "cell_type": "code",
   "execution_count": 62,
   "id": "c7c2a4df",
   "metadata": {},
   "outputs": [
    {
     "data": {
      "text/plain": [
       "Array([S0001,C0001,17 Feb 19,Attended,70,Qualified], [S0298,C0008,24 Feb 19,Attended,70,Qualified], [S0297,C0007,23 Feb 19,Absent,0,Not Qualified], [S0296,C0030,20 Feb 19,Attended,70,Qualified], [S0291,C0013,1 Mar 19,Attended,85,Qualified], [S0290,C0017,5 Mar 19,Absent,0,Not Qualified], [S0289,C0016,4 Mar 19,Absent,0,Not Qualified], [S0288,C0015,3 Mar 19,Absent,0,Not Qualified], [S0287,C0014,2 Mar 19,Absent,0,Not Qualified], [S0286,C0013,1 Mar 19,Attended,85,Qualified], [S0285,C0012,28 Feb 19,Attended,70,Qualified], [S0284,C0011,27 Feb 19,Absent,0,Not Qualified], [S0283,C0010,26 Feb 19,Absent,0,Not Qualified], [S0281,C0008,24 Feb 19,Attended,70,Qualified], [S0280,C0007,23 Feb 19,Absent,0,Not Qualified], [S0279,C0006,22 Feb 19,Absent,0,Not Qualifi..."
      ]
     },
     "execution_count": 62,
     "metadata": {},
     "output_type": "execute_result"
    }
   ],
   "source": [
    "input.collect()"
   ]
  },
  {
   "cell_type": "code",
   "execution_count": 70,
   "id": "e8a4a96c",
   "metadata": {},
   "outputs": [
    {
     "data": {
      "text/plain": [
       "rdd1 = MapPartitionsRDD[78] at map at <console>:54\n"
      ]
     },
     "metadata": {},
     "output_type": "display_data",
     "source": "user"
    },
    {
     "data": {
      "text/plain": [
       "MapPartitionsRDD[78] at map at <console>:54"
      ]
     },
     "execution_count": 70,
     "metadata": {},
     "output_type": "execute_result"
    }
   ],
   "source": [
    "val rdd1 = input.map(x => (x(0),x(1),x(5)))"
   ]
  },
  {
   "cell_type": "code",
   "execution_count": 71,
   "id": "09bbb16a",
   "metadata": {},
   "outputs": [
    {
     "data": {
      "text/plain": [
       "Array((S0001,C0001,Qualified), (S0298,C0008,Qualified), (S0297,C0007,Not Qualified), (S0296,C0030,Qualified), (S0291,C0013,Qualified), (S0290,C0017,Not Qualified), (S0289,C0016,Not Qualified), (S0288,C0015,Not Qualified), (S0287,C0014,Not Qualified), (S0286,C0013,Qualified), (S0285,C0012,Qualified), (S0284,C0011,Not Qualified), (S0283,C0010,Not Qualified), (S0281,C0008,Qualified), (S0280,C0007,Not Qualified), (S0279,C0006,Not Qualified), (S0278,C0005,Not Qualified), (S0276,C0003,Qualified), (S0275,C0017,Not Qualified), (S0274,C0016,Not Qualified), (S0273,C0015,Not Qualified), (S0272,C0014,Not Qualified), (S0271,C0013,Qualified), (S0270,C0012,Qualified), (S0269,C0011,Not Qualified), (S0268,C0010,Not Qualified), (S0266,C0008,Qualified), (S0265,C0007,Not Qua..."
      ]
     },
     "execution_count": 71,
     "metadata": {},
     "output_type": "execute_result"
    }
   ],
   "source": [
    "rdd1.collect()"
   ]
  },
  {
   "cell_type": "code",
   "execution_count": 73,
   "id": "38396bdc",
   "metadata": {},
   "outputs": [
    {
     "data": {
      "text/plain": [
       "rdd2 = MapPartitionsRDD[79] at map at <console>:54\n"
      ]
     },
     "metadata": {},
     "output_type": "display_data",
     "source": "user"
    },
    {
     "data": {
      "text/plain": [
       "MapPartitionsRDD[79] at map at <console>:54"
      ]
     },
     "execution_count": 73,
     "metadata": {},
     "output_type": "execute_result"
    }
   ],
   "source": [
    "val rdd2 = rdd1.map(x => (x._3,x._1))"
   ]
  },
  {
   "cell_type": "code",
   "execution_count": 74,
   "id": "a844288e",
   "metadata": {},
   "outputs": [
    {
     "data": {
      "text/plain": [
       "Array((Qualified,S0001), (Qualified,S0298), (Not Qualified,S0297), (Qualified,S0296), (Qualified,S0291), (Not Qualified,S0290), (Not Qualified,S0289), (Not Qualified,S0288), (Not Qualified,S0287), (Qualified,S0286), (Qualified,S0285), (Not Qualified,S0284), (Not Qualified,S0283), (Qualified,S0281), (Not Qualified,S0280), (Not Qualified,S0279), (Not Qualified,S0278), (Qualified,S0276), (Not Qualified,S0275), (Not Qualified,S0274), (Not Qualified,S0273), (Not Qualified,S0272), (Qualified,S0271), (Qualified,S0270), (Not Qualified,S0269), (Not Qualified,S0268), (Qualified,S0266), (Not Qualified,S0265), (Not Qualified,S0264), (Not Qualified,S0263), (Qualified,S0261), (Not Qualified,S0260), (Qualified,S0259), (Not Qualified,S0258), (Not Qualified,S0257), (Not Qualif..."
      ]
     },
     "execution_count": 74,
     "metadata": {},
     "output_type": "execute_result"
    }
   ],
   "source": [
    "rdd2.collect()"
   ]
  },
  {
   "cell_type": "code",
   "execution_count": 76,
   "id": "a255c40a",
   "metadata": {},
   "outputs": [
    {
     "data": {
      "text/plain": [
       "rdd3 = ShuffledRDD[81] at groupByKey at <console>:54\n"
      ]
     },
     "metadata": {},
     "output_type": "display_data",
     "source": "user"
    },
    {
     "data": {
      "text/plain": [
       "ShuffledRDD[81] at groupByKey at <console>:54"
      ]
     },
     "execution_count": 76,
     "metadata": {},
     "output_type": "execute_result"
    }
   ],
   "source": [
    "val rdd3 = rdd2.groupByKey"
   ]
  },
  {
   "cell_type": "code",
   "execution_count": 78,
   "id": "a1cebbb6",
   "metadata": {},
   "outputs": [
    {
     "data": {
      "text/plain": [
       "Array((Qualified,151), (Not Qualified,149))"
      ]
     },
     "execution_count": 78,
     "metadata": {},
     "output_type": "execute_result"
    }
   ],
   "source": [
    "rdd3.map(x => (x._1,x._2.size)).collect()"
   ]
  },
  {
   "cell_type": "markdown",
   "id": "9a1cb0f1",
   "metadata": {},
   "source": [
    "### Writing Resultset to Hive"
   ]
  },
  {
   "cell_type": "code",
   "execution_count": 80,
   "id": "04c7655d",
   "metadata": {},
   "outputs": [],
   "source": [
    "//writing the dataset to Hive\n",
    "\n",
    "df1_coursecompletion.write.mode(\"overwrite\").saveAsTable(\"capstoneproject.sample_table\")"
   ]
  },
  {
   "cell_type": "code",
   "execution_count": 83,
   "id": "2a53d9eb",
   "metadata": {},
   "outputs": [
    {
     "name": "stdout",
     "output_type": "stream",
     "text": [
      "+----------+--------+---------+--------------+-----+-------------+\n",
      "|studentsid|courseid| examdate|attendedstatus|marks|       result|\n",
      "+----------+--------+---------+--------------+-----+-------------+\n",
      "|     S0001|   C0001|17 Feb 19|      Attended|   70|    Qualified|\n",
      "|     S0298|   C0008|24 Feb 19|      Attended|   70|    Qualified|\n",
      "|     S0297|   C0007|23 Feb 19|        Absent|    0|Not Qualified|\n",
      "|     S0296|   C0030|20 Feb 19|      Attended|   70|    Qualified|\n",
      "|     S0291|   C0013| 1 Mar 19|      Attended|   85|    Qualified|\n",
      "|     S0290|   C0017| 5 Mar 19|        Absent|    0|Not Qualified|\n",
      "|     S0289|   C0016| 4 Mar 19|        Absent|    0|Not Qualified|\n",
      "|     S0288|   C0015| 3 Mar 19|        Absent|    0|Not Qualified|\n",
      "|     S0287|   C0014| 2 Mar 19|        Absent|    0|Not Qualified|\n",
      "|     S0286|   C0013| 1 Mar 19|      Attended|   85|    Qualified|\n",
      "|     S0285|   C0012|28 Feb 19|      Attended|   70|    Qualified|\n",
      "|     S0284|   C0011|27 Feb 19|        Absent|    0|Not Qualified|\n",
      "|     S0283|   C0010|26 Feb 19|        Absent|    0|Not Qualified|\n",
      "|     S0281|   C0008|24 Feb 19|      Attended|   70|    Qualified|\n",
      "|     S0280|   C0007|23 Feb 19|        Absent|    0|Not Qualified|\n",
      "|     S0279|   C0006|22 Feb 19|        Absent|    0|Not Qualified|\n",
      "|     S0278|   C0005|21 Feb 19|        Absent|    0|Not Qualified|\n",
      "|     S0276|   C0003|19 Feb 19|      Attended|   70|    Qualified|\n",
      "|     S0275|   C0017| 5 Mar 19|        Absent|    0|Not Qualified|\n",
      "|     S0274|   C0016| 4 Mar 19|        Absent|    0|Not Qualified|\n",
      "+----------+--------+---------+--------------+-----+-------------+\n",
      "only showing top 20 rows\n",
      "\n"
     ]
    }
   ],
   "source": [
    "//verifying the result in Hive table\n",
    "\n",
    "spark.sql(\"select * from sample_table\").show()"
   ]
  },
  {
   "cell_type": "code",
   "execution_count": null,
   "id": "a7f3b2a3",
   "metadata": {},
   "outputs": [],
   "source": []
  }
 ],
 "metadata": {
  "kernelspec": {
   "display_name": "Spark 2 - Scala",
   "language": "scala",
   "name": "spark_2_scala"
  },
  "language_info": {
   "codemirror_mode": "text/x-scala",
   "file_extension": ".scala",
   "mimetype": "text/x-scala",
   "name": "scala",
   "pygments_lexer": "scala",
   "version": "2.11.12"
  }
 },
 "nbformat": 4,
 "nbformat_minor": 5
}
